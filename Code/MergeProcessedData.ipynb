{
 "cells": [
  {
   "cell_type": "code",
   "execution_count": 96,
   "metadata": {},
   "outputs": [
    {
     "data": {
      "text/plain": [
       "['L1_Train_Processed.csv',\n",
       " 'L2_Train_2_Processed.csv',\n",
       " 'L2_Train_Processed.csv',\n",
       " 'L3_Train_Processed.csv',\n",
       " 'L4_Train_2_Processed.csv',\n",
       " 'L4_Train_Processed.csv',\n",
       " 'L5_Train_Processed.csv',\n",
       " 'L6_Train_Processed.csv',\n",
       " 'L7_Train_2_Processed.csv',\n",
       " 'L7_Train_Processed.csv',\n",
       " 'L8_Train_2_Processed.csv',\n",
       " 'L8_Train_Processed.csv',\n",
       " 'L9_Train_2_Processed.csv',\n",
       " 'L9_Train_Processed.csv',\n",
       " 'L10_Train_2_Processed.csv',\n",
       " 'L10_Train_Processed.csv',\n",
       " 'L11_Train_Processed.csv',\n",
       " 'L12_Train_2_Processed.csv',\n",
       " 'L12_Train_Processed.csv',\n",
       " 'L13_Train_Processed.csv',\n",
       " 'L14_Train_Processed.csv',\n",
       " 'L15_Train_Processed.csv',\n",
       " 'L16_Train_Processed.csv',\n",
       " 'L17_Train_Processed.csv']"
      ]
     },
     "execution_count": 96,
     "metadata": {},
     "output_type": "execute_result"
    }
   ],
   "source": [
    "import pandas as pd\n",
    "from datetime import datetime, timedelta\n",
    "import os\n",
    "import random\n",
    "\n",
    "save_dir = 'PreparedData'\n",
    "\n",
    "files = os.listdir('..//Data//ProcessedData')\n",
    "# files = random.sample(files, 8)\n",
    "files.sort(key=lambda x: int(x[1:x.index('_')]))\n",
    "files"
   ]
  },
  {
   "cell_type": "code",
   "execution_count": 97,
   "metadata": {},
   "outputs": [],
   "source": [
    "device_files = {}\n",
    "for file in files:\n",
    "    device_id = file.split('_')[0]  # Extract device id (e.g., 'L1', 'L2', etc.)\n",
    "    if device_id not in device_files:\n",
    "        device_files[device_id] = []\n",
    "    device_files[device_id].append(file)"
   ]
  },
  {
   "cell_type": "code",
   "execution_count": 98,
   "metadata": {},
   "outputs": [
    {
     "name": "stdout",
     "output_type": "stream",
     "text": [
      "Merging files for device: L1\n",
      "Merging files for device: L2\n",
      "Merging files for device: L3\n",
      "Merging files for device: L4\n",
      "Merging files for device: L5\n",
      "Merging files for device: L6\n",
      "Merging files for device: L7\n",
      "Merging files for device: L8\n",
      "Merging files for device: L9\n",
      "Merging files for device: L10\n",
      "Merging files for device: L11\n",
      "Merging files for device: L12\n",
      "Merging files for device: L13\n",
      "Merging files for device: L14\n",
      "Merging files for device: L15\n",
      "Merging files for device: L16\n",
      "Merging files for device: L17\n"
     ]
    }
   ],
   "source": [
    "for device_id, device_files_list in device_files.items():\n",
    "    print(f'Merging files for device: {device_id}')\n",
    "\n",
    "    device_dataframes = []\n",
    "\n",
    "    # Read and append each file for the current device\n",
    "    for file in device_files_list:\n",
    "        df = pd.read_csv(f'..//Data//ProcessedData//{file}')\n",
    "        device_dataframes.append(df)\n",
    "    \n",
    "    merged_device_df = pd.concat(device_dataframes, ignore_index=True)\n",
    "    \n",
    "    merged_device_df = merged_device_df.sort_values(by=['Month','Day','Hour','Minute'], ascending=True)\n",
    "\n",
    "    merged_device_df.to_csv(f'..//Data//MergedSorted//{device_id}_Merged_Sorted.csv', index=False)\n"
   ]
  },
  {
   "cell_type": "code",
   "execution_count": 99,
   "metadata": {},
   "outputs": [],
   "source": [
    "def SeqNumber2Datetime(seq_number: int) -> datetime:\n",
    "    seq_number = str(seq_number)\n",
    "    datetime_str = seq_number[:12]\n",
    "    return datetime.strptime(datetime_str, \"%Y%m%d%H%M\") \n",
    "\n",
    "def Datetime2SeqNumber(dt: datetime, device_id) -> int:\n",
    "    base_seq_number = dt.strftime(\"%Y%m%d%H%M\")\n",
    "    seq_number_with_device = f\"{base_seq_number}{device_id:02}\"\n",
    "    return seq_number_with_device\n",
    "\n",
    "def filter_time_range(df, start_time=\"06:00:00\", end_time=\"17:30:00\"):\n",
    "    start_time = pd.to_datetime(start_time).time()\n",
    "    end_time = pd.to_datetime(end_time).time()\n",
    "    return df[df['DateTime'].dt.time.between(start_time, end_time)]"
   ]
  },
  {
   "cell_type": "code",
   "execution_count": 100,
   "metadata": {},
   "outputs": [],
   "source": [
    "files = os.listdir('..//Data//MergedSorted')\n",
    "files.sort(key=lambda x: int(x[1:x.index('_')]))\n"
   ]
  },
  {
   "cell_type": "code",
   "execution_count": 101,
   "metadata": {},
   "outputs": [
    {
     "name": "stdout",
     "output_type": "stream",
     "text": [
      "Processing file: L1_Merged_Sorted.csv\n"
     ]
    },
    {
     "name": "stderr",
     "output_type": "stream",
     "text": [
      "C:\\Users\\Administrator\\AppData\\Local\\Temp\\ipykernel_13104\\3306839460.py:15: FutureWarning: 'T' is deprecated and will be removed in a future version, please use 'min' instead.\n",
      "  time_index = pd.date_range(start=start_time, end=end_time, freq='10T')\n"
     ]
    },
    {
     "name": "stdout",
     "output_type": "stream",
     "text": [
      "Processing file: L2_Merged_Sorted.csv\n"
     ]
    },
    {
     "name": "stderr",
     "output_type": "stream",
     "text": [
      "C:\\Users\\Administrator\\AppData\\Local\\Temp\\ipykernel_13104\\3306839460.py:15: FutureWarning: 'T' is deprecated and will be removed in a future version, please use 'min' instead.\n",
      "  time_index = pd.date_range(start=start_time, end=end_time, freq='10T')\n"
     ]
    },
    {
     "name": "stdout",
     "output_type": "stream",
     "text": [
      "Processing file: L3_Merged_Sorted.csv\n"
     ]
    },
    {
     "name": "stderr",
     "output_type": "stream",
     "text": [
      "C:\\Users\\Administrator\\AppData\\Local\\Temp\\ipykernel_13104\\3306839460.py:15: FutureWarning: 'T' is deprecated and will be removed in a future version, please use 'min' instead.\n",
      "  time_index = pd.date_range(start=start_time, end=end_time, freq='10T')\n"
     ]
    },
    {
     "name": "stdout",
     "output_type": "stream",
     "text": [
      "Processing file: L4_Merged_Sorted.csv\n"
     ]
    },
    {
     "name": "stderr",
     "output_type": "stream",
     "text": [
      "C:\\Users\\Administrator\\AppData\\Local\\Temp\\ipykernel_13104\\3306839460.py:15: FutureWarning: 'T' is deprecated and will be removed in a future version, please use 'min' instead.\n",
      "  time_index = pd.date_range(start=start_time, end=end_time, freq='10T')\n"
     ]
    },
    {
     "name": "stdout",
     "output_type": "stream",
     "text": [
      "Processing file: L5_Merged_Sorted.csv\n"
     ]
    },
    {
     "name": "stderr",
     "output_type": "stream",
     "text": [
      "C:\\Users\\Administrator\\AppData\\Local\\Temp\\ipykernel_13104\\3306839460.py:15: FutureWarning: 'T' is deprecated and will be removed in a future version, please use 'min' instead.\n",
      "  time_index = pd.date_range(start=start_time, end=end_time, freq='10T')\n"
     ]
    },
    {
     "name": "stdout",
     "output_type": "stream",
     "text": [
      "Processing file: L6_Merged_Sorted.csv\n"
     ]
    },
    {
     "name": "stderr",
     "output_type": "stream",
     "text": [
      "C:\\Users\\Administrator\\AppData\\Local\\Temp\\ipykernel_13104\\3306839460.py:15: FutureWarning: 'T' is deprecated and will be removed in a future version, please use 'min' instead.\n",
      "  time_index = pd.date_range(start=start_time, end=end_time, freq='10T')\n"
     ]
    },
    {
     "name": "stdout",
     "output_type": "stream",
     "text": [
      "Processing file: L7_Merged_Sorted.csv\n"
     ]
    },
    {
     "name": "stderr",
     "output_type": "stream",
     "text": [
      "C:\\Users\\Administrator\\AppData\\Local\\Temp\\ipykernel_13104\\3306839460.py:15: FutureWarning: 'T' is deprecated and will be removed in a future version, please use 'min' instead.\n",
      "  time_index = pd.date_range(start=start_time, end=end_time, freq='10T')\n"
     ]
    },
    {
     "name": "stdout",
     "output_type": "stream",
     "text": [
      "Processing file: L8_Merged_Sorted.csv\n"
     ]
    },
    {
     "name": "stderr",
     "output_type": "stream",
     "text": [
      "C:\\Users\\Administrator\\AppData\\Local\\Temp\\ipykernel_13104\\3306839460.py:15: FutureWarning: 'T' is deprecated and will be removed in a future version, please use 'min' instead.\n",
      "  time_index = pd.date_range(start=start_time, end=end_time, freq='10T')\n"
     ]
    },
    {
     "name": "stdout",
     "output_type": "stream",
     "text": [
      "Processing file: L9_Merged_Sorted.csv\n"
     ]
    },
    {
     "name": "stderr",
     "output_type": "stream",
     "text": [
      "C:\\Users\\Administrator\\AppData\\Local\\Temp\\ipykernel_13104\\3306839460.py:15: FutureWarning: 'T' is deprecated and will be removed in a future version, please use 'min' instead.\n",
      "  time_index = pd.date_range(start=start_time, end=end_time, freq='10T')\n"
     ]
    },
    {
     "name": "stdout",
     "output_type": "stream",
     "text": [
      "Processing file: L10_Merged_Sorted.csv\n"
     ]
    },
    {
     "name": "stderr",
     "output_type": "stream",
     "text": [
      "C:\\Users\\Administrator\\AppData\\Local\\Temp\\ipykernel_13104\\3306839460.py:15: FutureWarning: 'T' is deprecated and will be removed in a future version, please use 'min' instead.\n",
      "  time_index = pd.date_range(start=start_time, end=end_time, freq='10T')\n"
     ]
    },
    {
     "name": "stdout",
     "output_type": "stream",
     "text": [
      "Processing file: L11_Merged_Sorted.csv\n"
     ]
    },
    {
     "name": "stderr",
     "output_type": "stream",
     "text": [
      "C:\\Users\\Administrator\\AppData\\Local\\Temp\\ipykernel_13104\\3306839460.py:15: FutureWarning: 'T' is deprecated and will be removed in a future version, please use 'min' instead.\n",
      "  time_index = pd.date_range(start=start_time, end=end_time, freq='10T')\n"
     ]
    },
    {
     "name": "stdout",
     "output_type": "stream",
     "text": [
      "Processing file: L12_Merged_Sorted.csv\n"
     ]
    },
    {
     "name": "stderr",
     "output_type": "stream",
     "text": [
      "C:\\Users\\Administrator\\AppData\\Local\\Temp\\ipykernel_13104\\3306839460.py:15: FutureWarning: 'T' is deprecated and will be removed in a future version, please use 'min' instead.\n",
      "  time_index = pd.date_range(start=start_time, end=end_time, freq='10T')\n"
     ]
    },
    {
     "name": "stdout",
     "output_type": "stream",
     "text": [
      "Processing file: L13_Merged_Sorted.csv\n"
     ]
    },
    {
     "name": "stderr",
     "output_type": "stream",
     "text": [
      "C:\\Users\\Administrator\\AppData\\Local\\Temp\\ipykernel_13104\\3306839460.py:15: FutureWarning: 'T' is deprecated and will be removed in a future version, please use 'min' instead.\n",
      "  time_index = pd.date_range(start=start_time, end=end_time, freq='10T')\n"
     ]
    },
    {
     "name": "stdout",
     "output_type": "stream",
     "text": [
      "Processing file: L14_Merged_Sorted.csv\n"
     ]
    },
    {
     "name": "stderr",
     "output_type": "stream",
     "text": [
      "C:\\Users\\Administrator\\AppData\\Local\\Temp\\ipykernel_13104\\3306839460.py:15: FutureWarning: 'T' is deprecated and will be removed in a future version, please use 'min' instead.\n",
      "  time_index = pd.date_range(start=start_time, end=end_time, freq='10T')\n"
     ]
    },
    {
     "name": "stdout",
     "output_type": "stream",
     "text": [
      "Processing file: L15_Merged_Sorted.csv\n"
     ]
    },
    {
     "name": "stderr",
     "output_type": "stream",
     "text": [
      "C:\\Users\\Administrator\\AppData\\Local\\Temp\\ipykernel_13104\\3306839460.py:15: FutureWarning: 'T' is deprecated and will be removed in a future version, please use 'min' instead.\n",
      "  time_index = pd.date_range(start=start_time, end=end_time, freq='10T')\n"
     ]
    },
    {
     "name": "stdout",
     "output_type": "stream",
     "text": [
      "Processing file: L16_Merged_Sorted.csv\n"
     ]
    },
    {
     "name": "stderr",
     "output_type": "stream",
     "text": [
      "C:\\Users\\Administrator\\AppData\\Local\\Temp\\ipykernel_13104\\3306839460.py:15: FutureWarning: 'T' is deprecated and will be removed in a future version, please use 'min' instead.\n",
      "  time_index = pd.date_range(start=start_time, end=end_time, freq='10T')\n"
     ]
    },
    {
     "name": "stdout",
     "output_type": "stream",
     "text": [
      "Processing file: L17_Merged_Sorted.csv\n"
     ]
    },
    {
     "name": "stderr",
     "output_type": "stream",
     "text": [
      "C:\\Users\\Administrator\\AppData\\Local\\Temp\\ipykernel_13104\\3306839460.py:15: FutureWarning: 'T' is deprecated and will be removed in a future version, please use 'min' instead.\n",
      "  time_index = pd.date_range(start=start_time, end=end_time, freq='10T')\n"
     ]
    }
   ],
   "source": [
    "for file in files:\n",
    "    print(f\"Processing file: {file}\")\n",
    "    \n",
    "    device_id = int(file.split('_')[0][-1:])\n",
    "\n",
    "    df = pd.read_csv(f'..//Data//MergedSorted//{file}')\n",
    "    \n",
    "    df['DateTime'] = df['SeqNumber'].apply(SeqNumber2Datetime)\n",
    "\n",
    "    df.set_index('DateTime', inplace=True)\n",
    "\n",
    "    start_time = df.index.min()\n",
    "    end_time = SeqNumber2Datetime(202411301700)\n",
    "\n",
    "    time_index = pd.date_range(start=start_time, end=end_time, freq='10T')\n",
    "\n",
    "    df_reindexed = df.reindex(time_index)\n",
    "\n",
    "\n",
    "    df_reindexed.reset_index(inplace=True)\n",
    "    df_reindexed.rename(columns={'index': 'DateTime'}, inplace=True)\n",
    "\n",
    "    df_reindexed['SeqNumber'] = df_reindexed['DateTime'].apply(lambda x: Datetime2SeqNumber(x, device_id))\n",
    "     \n",
    "    df_reindexed = filter_time_range(df_reindexed)\n",
    "    \n",
    "    df_reindexed.to_csv(f'..//Data//MergedSorted//{file}',index=False)\n"
   ]
  }
 ],
 "metadata": {
  "kernelspec": {
   "display_name": "ai_cup_2024",
   "language": "python",
   "name": "python3"
  },
  "language_info": {
   "codemirror_mode": {
    "name": "ipython",
    "version": 3
   },
   "file_extension": ".py",
   "mimetype": "text/x-python",
   "name": "python",
   "nbconvert_exporter": "python",
   "pygments_lexer": "ipython3",
   "version": "3.9.20"
  }
 },
 "nbformat": 4,
 "nbformat_minor": 2
}
