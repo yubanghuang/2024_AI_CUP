{
 "cells": [
  {
   "cell_type": "markdown",
   "metadata": {},
   "source": [
    "預測後的 Power 放入到 測試集 "
   ]
  },
  {
   "cell_type": "code",
   "execution_count": null,
   "metadata": {},
   "outputs": [],
   "source": [
    "from datetime import datetime, timedelta\n",
    "import numpy as np\n",
    "import pandas as pd\n",
    "import os\n",
    "\n",
    "file_path = '..//Data//PredictedData'\n",
    "files = os.listdir(file_path)"
   ]
  },
  {
   "cell_type": "code",
   "execution_count": null,
   "metadata": {},
   "outputs": [],
   "source": [
    "test_df = pd.read_csv('..//Data//TestData//upload(no answer).csv')\n",
    "answer_df = test_df.set_index('序號')\n",
    "for file in files:\n",
    "    pred_df = pd.read_csv(f'{file_path}//{file}')\n",
    "    seq_numbers = pred_df['SeqNumber'].tolist()\n",
    "    pred_df = pred_df.set_index('SeqNumber')\n",
    "    pred_power = pred_df.loc[seq_numbers, 'Avg_Power(mW)'].to_numpy()\n",
    "    answer_df.loc[seq_numbers,'答案'] = pred_power"
   ]
  },
  {
   "cell_type": "code",
   "execution_count": null,
   "metadata": {},
   "outputs": [],
   "source": [
    "answer_df.reset_index().to_csv(f'..//Data//TestData//answer.csv', index=False)"
   ]
  }
 ],
 "metadata": {
  "kernelspec": {
   "display_name": "ai_cup_2024",
   "language": "python",
   "name": "python3"
  },
  "language_info": {
   "codemirror_mode": {
    "name": "ipython",
    "version": 3
   },
   "file_extension": ".py",
   "mimetype": "text/x-python",
   "name": "python",
   "nbconvert_exporter": "python",
   "pygments_lexer": "ipython3",
   "version": "3.9.20"
  }
 },
 "nbformat": 4,
 "nbformat_minor": 2
}
